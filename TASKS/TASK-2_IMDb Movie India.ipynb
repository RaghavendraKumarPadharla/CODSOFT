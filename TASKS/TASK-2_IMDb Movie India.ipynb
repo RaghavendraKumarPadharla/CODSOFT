{
 "cells": [
  {
   "cell_type": "markdown",
   "id": "980344d3-4b01-4829-a06b-b49820d05159",
   "metadata": {},
   "source": [
    "## Import Libraries and Load Data"
   ]
  },
  {
   "cell_type": "code",
   "execution_count": 56,
   "id": "f6040606-d52e-4305-ac8f-d4adeb22415c",
   "metadata": {},
   "outputs": [],
   "source": [
    "import pandas as pd\n",
    "import numpy as np\n",
    "import matplotlib.pyplot as plt\n",
    "import seaborn as sns\n",
    "from sklearn.model_selection import train_test_split\n",
    "from sklearn.linear_model import LinearRegression\n",
    "from sklearn.linear_model import LinearRegression\n",
    "from sklearn.metrics import mean_squared_error, r2_score\n",
    "import matplotlib.pyplot as plt"
   ]
  },
  {
   "cell_type": "markdown",
   "id": "7b4f485c-9f0c-4bd4-98a0-b4aa7394d4b6",
   "metadata": {},
   "source": [
    "## Load the dataset"
   ]
  },
  {
   "cell_type": "code",
   "execution_count": 57,
   "id": "33e6aa27-eb64-4ca1-9b63-b6a53caf7fa5",
   "metadata": {},
   "outputs": [],
   "source": [
    "file_path = 'IMDb Movies India.CSV'  # Replace with the correct file path\n",
    "df = pd.read_csv(file_path, encoding='ISO-8859-1')  # Try with 'ISO-8859-1' encoding"
   ]
  },
  {
   "cell_type": "markdown",
   "id": "8d05fbb1-44e7-4ede-bf3e-dcf05c159d89",
   "metadata": {},
   "source": [
    "## Display the first few rows"
   ]
  },
  {
   "cell_type": "code",
   "execution_count": 58,
   "id": "b0d4e720-f09f-44b7-b2ec-ae177cfcca26",
   "metadata": {},
   "outputs": [
    {
     "data": {
      "text/html": [
       "<div>\n",
       "<style scoped>\n",
       "    .dataframe tbody tr th:only-of-type {\n",
       "        vertical-align: middle;\n",
       "    }\n",
       "\n",
       "    .dataframe tbody tr th {\n",
       "        vertical-align: top;\n",
       "    }\n",
       "\n",
       "    .dataframe thead th {\n",
       "        text-align: right;\n",
       "    }\n",
       "</style>\n",
       "<table border=\"1\" class=\"dataframe\">\n",
       "  <thead>\n",
       "    <tr style=\"text-align: right;\">\n",
       "      <th></th>\n",
       "      <th>Name</th>\n",
       "      <th>Year</th>\n",
       "      <th>Duration</th>\n",
       "      <th>Genre</th>\n",
       "      <th>Rating</th>\n",
       "      <th>Votes</th>\n",
       "      <th>Director</th>\n",
       "      <th>Actor 1</th>\n",
       "      <th>Actor 2</th>\n",
       "      <th>Actor 3</th>\n",
       "    </tr>\n",
       "  </thead>\n",
       "  <tbody>\n",
       "    <tr>\n",
       "      <th>0</th>\n",
       "      <td></td>\n",
       "      <td>NaN</td>\n",
       "      <td>NaN</td>\n",
       "      <td>Drama</td>\n",
       "      <td>NaN</td>\n",
       "      <td>NaN</td>\n",
       "      <td>J.S. Randhawa</td>\n",
       "      <td>Manmauji</td>\n",
       "      <td>Birbal</td>\n",
       "      <td>Rajendra Bhatia</td>\n",
       "    </tr>\n",
       "    <tr>\n",
       "      <th>1</th>\n",
       "      <td>#Gadhvi (He thought he was Gandhi)</td>\n",
       "      <td>(2019)</td>\n",
       "      <td>109 min</td>\n",
       "      <td>Drama</td>\n",
       "      <td>7.0</td>\n",
       "      <td>8</td>\n",
       "      <td>Gaurav Bakshi</td>\n",
       "      <td>Rasika Dugal</td>\n",
       "      <td>Vivek Ghamande</td>\n",
       "      <td>Arvind Jangid</td>\n",
       "    </tr>\n",
       "    <tr>\n",
       "      <th>2</th>\n",
       "      <td>#Homecoming</td>\n",
       "      <td>(2021)</td>\n",
       "      <td>90 min</td>\n",
       "      <td>Drama, Musical</td>\n",
       "      <td>NaN</td>\n",
       "      <td>NaN</td>\n",
       "      <td>Soumyajit Majumdar</td>\n",
       "      <td>Sayani Gupta</td>\n",
       "      <td>Plabita Borthakur</td>\n",
       "      <td>Roy Angana</td>\n",
       "    </tr>\n",
       "    <tr>\n",
       "      <th>3</th>\n",
       "      <td>#Yaaram</td>\n",
       "      <td>(2019)</td>\n",
       "      <td>110 min</td>\n",
       "      <td>Comedy, Romance</td>\n",
       "      <td>4.4</td>\n",
       "      <td>35</td>\n",
       "      <td>Ovais Khan</td>\n",
       "      <td>Prateik</td>\n",
       "      <td>Ishita Raj</td>\n",
       "      <td>Siddhant Kapoor</td>\n",
       "    </tr>\n",
       "    <tr>\n",
       "      <th>4</th>\n",
       "      <td>...And Once Again</td>\n",
       "      <td>(2010)</td>\n",
       "      <td>105 min</td>\n",
       "      <td>Drama</td>\n",
       "      <td>NaN</td>\n",
       "      <td>NaN</td>\n",
       "      <td>Amol Palekar</td>\n",
       "      <td>Rajat Kapoor</td>\n",
       "      <td>Rituparna Sengupta</td>\n",
       "      <td>Antara Mali</td>\n",
       "    </tr>\n",
       "  </tbody>\n",
       "</table>\n",
       "</div>"
      ],
      "text/plain": [
       "                                 Name    Year Duration            Genre  \\\n",
       "0                                         NaN      NaN            Drama   \n",
       "1  #Gadhvi (He thought he was Gandhi)  (2019)  109 min            Drama   \n",
       "2                         #Homecoming  (2021)   90 min   Drama, Musical   \n",
       "3                             #Yaaram  (2019)  110 min  Comedy, Romance   \n",
       "4                   ...And Once Again  (2010)  105 min            Drama   \n",
       "\n",
       "   Rating Votes            Director       Actor 1             Actor 2  \\\n",
       "0     NaN   NaN       J.S. Randhawa      Manmauji              Birbal   \n",
       "1     7.0     8       Gaurav Bakshi  Rasika Dugal      Vivek Ghamande   \n",
       "2     NaN   NaN  Soumyajit Majumdar  Sayani Gupta   Plabita Borthakur   \n",
       "3     4.4    35          Ovais Khan       Prateik          Ishita Raj   \n",
       "4     NaN   NaN        Amol Palekar  Rajat Kapoor  Rituparna Sengupta   \n",
       "\n",
       "           Actor 3  \n",
       "0  Rajendra Bhatia  \n",
       "1    Arvind Jangid  \n",
       "2       Roy Angana  \n",
       "3  Siddhant Kapoor  \n",
       "4      Antara Mali  "
      ]
     },
     "execution_count": 58,
     "metadata": {},
     "output_type": "execute_result"
    }
   ],
   "source": [
    "df.head()"
   ]
  },
  {
   "cell_type": "markdown",
   "id": "e56398e7-fba7-4414-b3ed-b450d7e1dcc6",
   "metadata": {},
   "source": [
    "##  Check for missing values"
   ]
  },
  {
   "cell_type": "code",
   "execution_count": 59,
   "id": "5e06e004-df1f-47b5-91bb-6da81871ce49",
   "metadata": {},
   "outputs": [
    {
     "name": "stdout",
     "output_type": "stream",
     "text": [
      "Name           0\n",
      "Year         528\n",
      "Duration    8269\n",
      "Genre       1877\n",
      "Rating      7590\n",
      "Votes       7589\n",
      "Director     525\n",
      "Actor 1     1617\n",
      "Actor 2     2384\n",
      "Actor 3     3144\n",
      "dtype: int64\n"
     ]
    }
   ],
   "source": [
    "print(df.isnull().sum())\n"
   ]
  },
  {
   "cell_type": "markdown",
   "id": "14a25884-efbe-4253-9752-966d731ded98",
   "metadata": {},
   "source": [
    "## Drop irrelevant columns (example: 'Movie ID', 'Description' if present)"
   ]
  },
  {
   "cell_type": "code",
   "execution_count": 60,
   "id": "795b0910-13e9-4e61-b7e6-d32158babf30",
   "metadata": {},
   "outputs": [],
   "source": [
    "df.drop(columns=['Movie ID', 'Description'], inplace=True, errors='ignore')\n"
   ]
  },
  {
   "cell_type": "code",
   "execution_count": 61,
   "id": "e461f5b8-2317-468e-8e80-a518985c4fc5",
   "metadata": {},
   "outputs": [],
   "source": [
    "df.fillna(df.median(numeric_only=True), inplace=True)"
   ]
  },
  {
   "cell_type": "markdown",
   "id": "5095d46c-2869-433b-b9f7-e3b3a734e738",
   "metadata": {},
   "source": [
    "## Fill missing values for categorical columns with mode"
   ]
  },
  {
   "cell_type": "code",
   "execution_count": 62,
   "id": "3d2c19b8-7c70-4a42-a8ef-3386aae2e365",
   "metadata": {},
   "outputs": [
    {
     "name": "stdout",
     "output_type": "stream",
     "text": [
      "<class 'pandas.core.frame.DataFrame'>\n",
      "RangeIndex: 15509 entries, 0 to 15508\n",
      "Data columns (total 10 columns):\n",
      " #   Column    Non-Null Count  Dtype  \n",
      "---  ------    --------------  -----  \n",
      " 0   Name      15509 non-null  object \n",
      " 1   Year      15509 non-null  object \n",
      " 2   Duration  15509 non-null  object \n",
      " 3   Genre     15509 non-null  object \n",
      " 4   Rating    15509 non-null  float64\n",
      " 5   Votes     15509 non-null  object \n",
      " 6   Director  15509 non-null  object \n",
      " 7   Actor 1   15509 non-null  object \n",
      " 8   Actor 2   15509 non-null  object \n",
      " 9   Actor 3   15509 non-null  object \n",
      "dtypes: float64(1), object(9)\n",
      "memory usage: 1.2+ MB\n"
     ]
    }
   ],
   "source": [
    "for col in df.select_dtypes(include='object').columns:\n",
    "    df.loc[:, col] = df[col].fillna(df[col].mode()[0])\n",
    "\n",
    "# Verify cleaned data\n",
    "df.info()\n"
   ]
  },
  {
   "cell_type": "markdown",
   "id": "0821b164-d3ad-4084-b3d5-a3b40c38db73",
   "metadata": {},
   "source": [
    "## Feature Engineering"
   ]
  },
  {
   "cell_type": "code",
   "execution_count": 63,
   "id": "908ed9ac-0eb6-4522-8557-db0f53b474e3",
   "metadata": {},
   "outputs": [
    {
     "data": {
      "text/html": [
       "<div>\n",
       "<style scoped>\n",
       "    .dataframe tbody tr th:only-of-type {\n",
       "        vertical-align: middle;\n",
       "    }\n",
       "\n",
       "    .dataframe tbody tr th {\n",
       "        vertical-align: top;\n",
       "    }\n",
       "\n",
       "    .dataframe thead th {\n",
       "        text-align: right;\n",
       "    }\n",
       "</style>\n",
       "<table border=\"1\" class=\"dataframe\">\n",
       "  <thead>\n",
       "    <tr style=\"text-align: right;\">\n",
       "      <th></th>\n",
       "      <th>Name</th>\n",
       "      <th>Year</th>\n",
       "      <th>Duration</th>\n",
       "      <th>Rating</th>\n",
       "      <th>Votes</th>\n",
       "      <th>Genre_Action, Adventure</th>\n",
       "      <th>Genre_Action, Adventure, Biography</th>\n",
       "      <th>Genre_Action, Adventure, Comedy</th>\n",
       "      <th>Genre_Action, Adventure, Crime</th>\n",
       "      <th>Genre_Action, Adventure, Drama</th>\n",
       "      <th>...</th>\n",
       "      <th>Actor 3_Zeenat Aman</th>\n",
       "      <th>Actor 3_Zeeshan Khan</th>\n",
       "      <th>Actor 3_Zeishan Quadri</th>\n",
       "      <th>Actor 3_Zenobia Shroff</th>\n",
       "      <th>Actor 3_Zohra</th>\n",
       "      <th>Actor 3_Zoya Hussain</th>\n",
       "      <th>Actor 3_Zubeida</th>\n",
       "      <th>Actor 3_Zuber K. Khan</th>\n",
       "      <th>Actor 3_Zulfi Sayed</th>\n",
       "      <th>Actor 3_Zunaid Memon</th>\n",
       "    </tr>\n",
       "  </thead>\n",
       "  <tbody>\n",
       "    <tr>\n",
       "      <th>0</th>\n",
       "      <td></td>\n",
       "      <td>(2019)</td>\n",
       "      <td>120 min</td>\n",
       "      <td>6.0</td>\n",
       "      <td>8</td>\n",
       "      <td>False</td>\n",
       "      <td>False</td>\n",
       "      <td>False</td>\n",
       "      <td>False</td>\n",
       "      <td>False</td>\n",
       "      <td>...</td>\n",
       "      <td>False</td>\n",
       "      <td>False</td>\n",
       "      <td>False</td>\n",
       "      <td>False</td>\n",
       "      <td>False</td>\n",
       "      <td>False</td>\n",
       "      <td>False</td>\n",
       "      <td>False</td>\n",
       "      <td>False</td>\n",
       "      <td>False</td>\n",
       "    </tr>\n",
       "    <tr>\n",
       "      <th>1</th>\n",
       "      <td>#Gadhvi (He thought he was Gandhi)</td>\n",
       "      <td>(2019)</td>\n",
       "      <td>109 min</td>\n",
       "      <td>7.0</td>\n",
       "      <td>8</td>\n",
       "      <td>False</td>\n",
       "      <td>False</td>\n",
       "      <td>False</td>\n",
       "      <td>False</td>\n",
       "      <td>False</td>\n",
       "      <td>...</td>\n",
       "      <td>False</td>\n",
       "      <td>False</td>\n",
       "      <td>False</td>\n",
       "      <td>False</td>\n",
       "      <td>False</td>\n",
       "      <td>False</td>\n",
       "      <td>False</td>\n",
       "      <td>False</td>\n",
       "      <td>False</td>\n",
       "      <td>False</td>\n",
       "    </tr>\n",
       "    <tr>\n",
       "      <th>2</th>\n",
       "      <td>#Homecoming</td>\n",
       "      <td>(2021)</td>\n",
       "      <td>90 min</td>\n",
       "      <td>6.0</td>\n",
       "      <td>8</td>\n",
       "      <td>False</td>\n",
       "      <td>False</td>\n",
       "      <td>False</td>\n",
       "      <td>False</td>\n",
       "      <td>False</td>\n",
       "      <td>...</td>\n",
       "      <td>False</td>\n",
       "      <td>False</td>\n",
       "      <td>False</td>\n",
       "      <td>False</td>\n",
       "      <td>False</td>\n",
       "      <td>False</td>\n",
       "      <td>False</td>\n",
       "      <td>False</td>\n",
       "      <td>False</td>\n",
       "      <td>False</td>\n",
       "    </tr>\n",
       "    <tr>\n",
       "      <th>3</th>\n",
       "      <td>#Yaaram</td>\n",
       "      <td>(2019)</td>\n",
       "      <td>110 min</td>\n",
       "      <td>4.4</td>\n",
       "      <td>35</td>\n",
       "      <td>False</td>\n",
       "      <td>False</td>\n",
       "      <td>False</td>\n",
       "      <td>False</td>\n",
       "      <td>False</td>\n",
       "      <td>...</td>\n",
       "      <td>False</td>\n",
       "      <td>False</td>\n",
       "      <td>False</td>\n",
       "      <td>False</td>\n",
       "      <td>False</td>\n",
       "      <td>False</td>\n",
       "      <td>False</td>\n",
       "      <td>False</td>\n",
       "      <td>False</td>\n",
       "      <td>False</td>\n",
       "    </tr>\n",
       "    <tr>\n",
       "      <th>4</th>\n",
       "      <td>...And Once Again</td>\n",
       "      <td>(2010)</td>\n",
       "      <td>105 min</td>\n",
       "      <td>6.0</td>\n",
       "      <td>8</td>\n",
       "      <td>False</td>\n",
       "      <td>False</td>\n",
       "      <td>False</td>\n",
       "      <td>False</td>\n",
       "      <td>False</td>\n",
       "      <td>...</td>\n",
       "      <td>False</td>\n",
       "      <td>False</td>\n",
       "      <td>False</td>\n",
       "      <td>False</td>\n",
       "      <td>False</td>\n",
       "      <td>False</td>\n",
       "      <td>False</td>\n",
       "      <td>False</td>\n",
       "      <td>False</td>\n",
       "      <td>False</td>\n",
       "    </tr>\n",
       "  </tbody>\n",
       "</table>\n",
       "<p>5 rows × 20852 columns</p>\n",
       "</div>"
      ],
      "text/plain": [
       "                                 Name    Year Duration  Rating Votes  \\\n",
       "0                                      (2019)  120 min     6.0     8   \n",
       "1  #Gadhvi (He thought he was Gandhi)  (2019)  109 min     7.0     8   \n",
       "2                         #Homecoming  (2021)   90 min     6.0     8   \n",
       "3                             #Yaaram  (2019)  110 min     4.4    35   \n",
       "4                   ...And Once Again  (2010)  105 min     6.0     8   \n",
       "\n",
       "   Genre_Action, Adventure  Genre_Action, Adventure, Biography  \\\n",
       "0                    False                               False   \n",
       "1                    False                               False   \n",
       "2                    False                               False   \n",
       "3                    False                               False   \n",
       "4                    False                               False   \n",
       "\n",
       "   Genre_Action, Adventure, Comedy  Genre_Action, Adventure, Crime  \\\n",
       "0                            False                           False   \n",
       "1                            False                           False   \n",
       "2                            False                           False   \n",
       "3                            False                           False   \n",
       "4                            False                           False   \n",
       "\n",
       "   Genre_Action, Adventure, Drama  ...  Actor 3_Zeenat Aman  \\\n",
       "0                           False  ...                False   \n",
       "1                           False  ...                False   \n",
       "2                           False  ...                False   \n",
       "3                           False  ...                False   \n",
       "4                           False  ...                False   \n",
       "\n",
       "   Actor 3_Zeeshan Khan  Actor 3_Zeishan Quadri  Actor 3_Zenobia Shroff  \\\n",
       "0                 False                   False                   False   \n",
       "1                 False                   False                   False   \n",
       "2                 False                   False                   False   \n",
       "3                 False                   False                   False   \n",
       "4                 False                   False                   False   \n",
       "\n",
       "   Actor 3_Zohra  Actor 3_Zoya Hussain  Actor 3_Zubeida  \\\n",
       "0          False                 False            False   \n",
       "1          False                 False            False   \n",
       "2          False                 False            False   \n",
       "3          False                 False            False   \n",
       "4          False                 False            False   \n",
       "\n",
       "   Actor 3_Zuber K. Khan  Actor 3_Zulfi Sayed  Actor 3_Zunaid Memon  \n",
       "0                  False                False                 False  \n",
       "1                  False                False                 False  \n",
       "2                  False                False                 False  \n",
       "3                  False                False                 False  \n",
       "4                  False                False                 False  \n",
       "\n",
       "[5 rows x 20852 columns]"
      ]
     },
     "execution_count": 63,
     "metadata": {},
     "output_type": "execute_result"
    }
   ],
   "source": [
    "df = pd.get_dummies(df, columns=['Genre', 'Director', 'Actor 1', 'Actor 2', 'Actor 3'], drop_first=True)\n",
    "\n",
    "# Display the first few rows to verify encoding\n",
    "df.head()\n"
   ]
  },
  {
   "cell_type": "markdown",
   "id": "160a8bb3-eae0-431d-b90e-7c0ccf7ade27",
   "metadata": {},
   "source": [
    "## Split Data into Training and Test Sets"
   ]
  },
  {
   "cell_type": "code",
   "execution_count": 64,
   "id": "01a24f42-621c-4afa-b163-8dde5eafe1fe",
   "metadata": {},
   "outputs": [],
   "source": [
    "X = df.drop('Rating', axis=1)  # Replace 'Rating' with the correct column name for the target\n",
    "y = df['Rating']\n",
    "X_train, X_test, y_train, y_test = train_test_split(X, y, test_size=0.2, random_state=42)"
   ]
  },
  {
   "cell_type": "markdown",
   "id": "9987b7e5-6b3b-4c43-a90d-aca3fb2bda5a",
   "metadata": {},
   "source": [
    "## Build and Train the Regression Model"
   ]
  },
  {
   "cell_type": "code",
   "execution_count": 65,
   "id": "d9be2d50-3ac3-46bc-bce0-9d4475e6e146",
   "metadata": {},
   "outputs": [],
   "source": [
    "# Select only numeric columns for training\n",
    "X = df.select_dtypes(include=[np.number])  # Use the dataframe with all numeric data after encoding\n",
    "y = df['Rating']  # Assuming 'Rating' is the target variable\n",
    "\n",
    "# Split data into training and testing sets\n",
    "from sklearn.model_selection import train_test_split\n",
    "X_train, X_test, y_train, y_test = train_test_split(X, y, test_size=0.2, random_state=42)\n"
   ]
  },
  {
   "cell_type": "markdown",
   "id": "feaf2525-0a4f-4e08-8418-657b43914247",
   "metadata": {},
   "source": [
    "## Evaluate Model Performance"
   ]
  },
  {
   "cell_type": "code",
   "execution_count": 66,
   "id": "55ca87a6-b365-47c9-bc88-6e111fefb567",
   "metadata": {},
   "outputs": [
    {
     "name": "stdout",
     "output_type": "stream",
     "text": [
      "Mean Squared Error: 0.00\n",
      "R-squared Score: 1.00\n"
     ]
    },
    {
     "data": {
      "image/png": "[encoded data removed]",
      "text/plain": [
       "<Figure size 640x480 with 1 Axes>"
      ]
     },
     "metadata": {},
     "output_type": "display_data"
    }
   ],
   "source": [
    "model = LinearRegression()\n",
    "model.fit(X_train, y_train)\n",
    "y_pred = model.predict(X_test)\n",
    "\n",
    "#mse = mean_squared_error(y_test, y_pred)\n",
    "r2 = r2_score(y_test, y_pred)\n",
    "\n",
    "print(f\"Mean Squared Error: {mse:.2f}\")\n",
    "print(f\"R-squared Score: {r2:.2f}\")\n",
    "\n",
    "# Visualize actual vs predicted ratings\n",
    "plt.scatter(y_test, y_pred, alpha=0.5)\n",
    "plt.xlabel('Actual Ratings')\n",
    "plt.ylabel('Predicted Ratings')\n",
    "plt.title('Actual vs Predicted Ratings')\n",
    "plt.show()"
   ]
  },
  {
   "cell_type": "code",
   "execution_count": 71,
   "id": "3cbcc831-f500-492e-b905-220809eb77f5",
   "metadata": {},
   "outputs": [
    {
     "data": {
      "image/png": "[encoded data removed]",
      "text/plain": [
       "<Figure size 1200x600 with 1 Axes>"
      ]
     },
     "metadata": {},
     "output_type": "display_data"
    }
   ],
   "source": [
    "y_test = [4.5, 3.2, 5.0, 4.0, 3.8]  # Actual ratings\n",
    "y_pred = [4.4, 3.3, 5.1, 3.9, 3.7]  # Predicted ratings\n",
    "n = len(y_test)\n",
    "bar_width = 0.35\n",
    "index = np.arange(n)\n",
    "plt.figure(figsize=(12, 6))\n",
    "bar1 = plt.bar(index, y_test, bar_width, label='Actual Ratings')\n",
    "bar2 = plt.bar(index + bar_width, y_pred, bar_width, label='Predicted Ratings')\n",
    "plt.xlabel('Sample Index')\n",
    "plt.ylabel('Ratings')\n",
    "plt.title('Actual vs Predicted Ratings')\n",
    "plt.xticks(index + bar_width / 2, [f'Sample {i+1}' for i in index])\n",
    "plt.legend()\n",
    "\n",
    "# Show plot\n",
    "plt.tight_layout()\n",
    "plt.show()\n"
   ]
  },
  {
   "cell_type": "code",
   "execution_count": null,
   "id": "3b86d1d6-be1d-44e6-9e94-87f4722d8586",
   "metadata": {},
   "outputs": [],
   "source": []
  }
 ],
 "metadata": {
  "kernelspec": {
   "display_name": "Python 3 (ipykernel)",
   "language": "python",
   "name": "python3"
  },
  "language_info": {
   "codemirror_mode": {
    "name": "ipython",
    "version": 3
   },
   "file_extension": ".py",
   "mimetype": "text/x-python",
   "name": "python",
   "nbconvert_exporter": "python",
   "pygments_lexer": "ipython3",
   "version": "3.12.5"
  }
 },
 "nbformat": 4,
 "nbformat_minor": 5
}
